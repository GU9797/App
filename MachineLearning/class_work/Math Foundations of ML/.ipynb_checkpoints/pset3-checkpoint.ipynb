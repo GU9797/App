{
 "cells": [
  {
   "cell_type": "markdown",
   "metadata": {},
   "source": [
    "Mike (Mingsi) Gu <br>\n",
    "CMSC 25300 <br>\n",
    "PSET 3"
   ]
  },
  {
   "cell_type": "code",
   "execution_count": 53,
   "metadata": {},
   "outputs": [],
   "source": [
    "import numpy as np\n",
    "import matplotlib.pyplot as plt\n",
    "from scipy.io import loadmat\n",
    "import pandas as pd\n",
    "from sklearn.model_selection import train_test_split"
   ]
  },
  {
   "cell_type": "markdown",
   "metadata": {},
   "source": [
    "1.\n",
    "a) 4.25 cal/g for carbohydrates, 17.5 cal/g for fats, 3.75 cal/g for protein"
   ]
  },
  {
   "cell_type": "code",
   "execution_count": 3,
   "metadata": {},
   "outputs": [
    {
     "data": {
      "text/plain": [
       "array([[ 4.25],\n",
       "       [17.5 ],\n",
       "       [ 3.75]])"
      ]
     },
     "execution_count": 3,
     "metadata": {},
     "output_type": "execute_result"
    }
   ],
   "source": [
    "mx = [[25, 0, 1], [20, 1, 2], [40, 1, 6]]\n",
    "my = [[110], [110], [210]]\n",
    "np.matmul(np.matmul(np.linalg.inv(np.matmul(np.transpose(mx), mx)), np.transpose(mx)), my)"
   ]
  },
  {
   "cell_type": "markdown",
   "metadata": {},
   "source": [
    "b)\n",
    "104 g for Frosted Flakes, 97 g for Grape-Nuts, 193 g for Teenage Mutant Ninja Turtles"
   ]
  },
  {
   "cell_type": "code",
   "execution_count": 5,
   "metadata": {},
   "outputs": [
    {
     "data": {
      "text/plain": [
       "array([[104],\n",
       "       [ 97],\n",
       "       [193]])"
      ]
     },
     "execution_count": 5,
     "metadata": {},
     "output_type": "execute_result"
    }
   ],
   "source": [
    "w = [[4], [9], [4]]\n",
    "np.matmul(mx, w)"
   ]
  },
  {
   "cell_type": "markdown",
   "metadata": {},
   "source": [
    "c)\n",
    "There is not a unique solution because column 3 of X can be expressed as column 1 - column 2. The matrix is not full rank and is not invertible.\n",
    "There is a solution that agrees with the true cal/g. If we remove the third column from X because it is not linearly independent, and solve for w, we get 4 cal/g for total carbohydrates, ~0 for complex carbohydrates, 9 cal/g for fats, and 4 cal/g for protein."
   ]
  },
  {
   "cell_type": "code",
   "execution_count": 10,
   "metadata": {},
   "outputs": [
    {
     "data": {
      "text/plain": [
       "array([[ 4.00000000e+00],\n",
       "       [-9.41469125e-14],\n",
       "       [ 9.00000000e+00],\n",
       "       [ 4.00000000e+00]])"
      ]
     },
     "execution_count": 10,
     "metadata": {},
     "output_type": "execute_result"
    }
   ],
   "source": [
    "mx = [[25,15,0,1],[20,12,1,2],[40,30,1,6],[30,15,0,3],[35,20,2,4]]\n",
    "my = [[104],[97],[193],[132],[174]]\n",
    "np.matmul(np.matmul(np.linalg.inv(np.matmul(np.transpose(mx), mx)), np.transpose(mx)), my)"
   ]
  },
  {
   "cell_type": "markdown",
   "metadata": {},
   "source": [
    "2.\n",
    "\n",
    "a) df/dw = 2x\n",
    "\n",
    "b) df/dw = 3x - 0.5x\n",
    "\n",
    "c) df/dw = $[[2w_{1} + 2w_{2} + 3w_{2}], [[2w_{1} + 3w_{1} + 8w_{2}]]$\n",
    "\n",
    "d) df/dw = 2w\\[\\[1, 2.5\\],\\[2.5, 4\\]\\]"
   ]
  },
  {
   "cell_type": "markdown",
   "metadata": {},
   "source": [
    "3.\n",
    "\n",
    "a) $$|y - Xw|^{2} + \\lambda|w|^{2} = yy^{t} - 2yXw + XX^{t}w^{2} + \\lambda w^{2}$$ \n",
    "$$  -2yX + 2XX^{t}w + 2\\lambda w = 0$$\n",
    "$$ w = (X^{t}X + \\lambda I)^{-1}X^{t}y $$\n",
    "\n",
    "b)\n",
    "There is a unique least squares solution if $X^{t}X$ is invertible (ie: rank(X) = p < n). For (1) there is a unique solution because $X^{t}X + \\lambda I$ is positive definite. $w^{t}X^{t}Xw >= 0$ and $w^{t}\\lambda Iw > 0$.\n"
   ]
  },
  {
   "cell_type": "markdown",
   "metadata": {},
   "source": [
    "4.\n",
    "\n",
    "a) I would one-hot encode the 3 species categorical labels into arrays of \\[1,0,0\\], \\[0,1,0\\], and \\[0,0,1\\] respectively. This array of arrays is y. X is the feature matrix 'meas' and w is the weight matrix in y = Xw."
   ]
  },
  {
   "cell_type": "code",
   "execution_count": 208,
   "metadata": {},
   "outputs": [],
   "source": [
    "fisher = loadmat('fisheriris.mat')"
   ]
  },
  {
   "cell_type": "markdown",
   "metadata": {},
   "source": [
    "b)\n",
    "Average test error was .18."
   ]
  },
  {
   "cell_type": "code",
   "execution_count": 216,
   "metadata": {},
   "outputs": [
    {
     "data": {
      "text/plain": [
       "0.18"
      ]
     },
     "execution_count": 216,
     "metadata": {},
     "output_type": "execute_result"
    }
   ],
   "source": [
    "def encode(m):\n",
    "    y =len(m) *[0]\n",
    "    for i, arr in enumerate(m):\n",
    "        if arr == ['setosa']:\n",
    "            y[i] = [1,0,0]\n",
    "        if arr == ['versicolor']:\n",
    "            y[i] = [0,1,0]\n",
    "        if arr == ['virginica']:\n",
    "            y[i] = [0,0,1]\n",
    "    return y\n",
    "\n",
    "def flowerclassify(species, meas, test_percentage):\n",
    "    err_l = []\n",
    "    for seed in np.arange(10, 20):\n",
    "        xtrain, xtest, ytrain, ytest = [], [], [], []\n",
    "        for flower in ['setosa', 'versicolor', 'virginica']:\n",
    "            y_mat = species[species == [flower]]\n",
    "            x_mat = [meas[i] for i, b in enumerate([species == [flower]][0]) if b == True]\n",
    "            xtr, xts, ytr, yts = train_test_split(x_mat, y_mat, test_size=test_percentage, random_state=seed)\n",
    "            xtrain += list(xtr)\n",
    "            ytrain += list(ytr)\n",
    "            xtest += list(xts)\n",
    "            ytest += list(yts)\n",
    "        ytest = encode(ytest)\n",
    "        ytrain = encode(ytrain)\n",
    "        w = np.matmul(np.matmul(np.linalg.inv(np.matmul(np.transpose(xtrain), xtrain)), np.transpose(xtrain)), ytrain)\n",
    "        ypred = np.matmul(xtest, w)\n",
    "        for j, result in enumerate(ypred):\n",
    "            p = list(result).index(max(result))\n",
    "            ypred[j] = [0, 0, 0]\n",
    "            ypred[j][p] = 1\n",
    "        ydiff = ytest - ypred\n",
    "        err = len([i for i in ydiff if list(i) != [0, 0, 0]]) / len(ydiff)\n",
    "        err_l.append(err)\n",
    "    return np.average(err_l)\n",
    "    \n",
    "flowerclassify(fisher['species'], fisher['meas'], 0.2)\n"
   ]
  },
  {
   "cell_type": "markdown",
   "metadata": {},
   "source": [
    "c)"
   ]
  },
  {
   "cell_type": "code",
   "execution_count": 217,
   "metadata": {},
   "outputs": [
    {
     "data": {
      "image/png": "[encoded data removed]",
      "text/plain": [
       "<Figure size 432x288 with 1 Axes>"
      ]
     },
     "metadata": {},
     "output_type": "display_data"
    }
   ],
   "source": [
    "size_vec = [0.2, 0.3, 0.4, 0.5, 0.6, 0.7, 0.8]\n",
    "err_vec = []\n",
    "for size in size_vec:\n",
    "    err_vec.append(flowerclassify(fisher['species'], fisher['meas'], size))\n",
    "\n",
    "plt.figure()\n",
    "plt.scatter(size_vec[::-1], err_vec)\n",
    "plt.xlabel('training set size')\n",
    "plt.ylabel('test error')\n",
    "plt.title('flower classification error')\n",
    "plt.show()\n",
    "    "
   ]
  },
  {
   "cell_type": "markdown",
   "metadata": {},
   "source": [
    "d)\n",
    "Average test error was .2167."
   ]
  },
  {
   "cell_type": "code",
   "execution_count": 218,
   "metadata": {},
   "outputs": [
    {
     "data": {
      "text/plain": [
       "0.21666666666666665"
      ]
     },
     "execution_count": 218,
     "metadata": {},
     "output_type": "execute_result"
    }
   ],
   "source": [
    "meas3 = np.transpose(np.transpose(fisher['meas'])[:3])\n",
    "flowerclassify(fisher['species'], meas3, 0.2)"
   ]
  }
 ],
 "metadata": {
  "kernelspec": {
   "display_name": "Python 3",
   "language": "python",
   "name": "python3"
  },
  "language_info": {
   "codemirror_mode": {
    "name": "ipython",
    "version": 3
   },
   "file_extension": ".py",
   "mimetype": "text/x-python",
   "name": "python",
   "nbconvert_exporter": "python",
   "pygments_lexer": "ipython3",
   "version": "3.6.5"
  }
 },
 "nbformat": 4,
 "nbformat_minor": 2
}
